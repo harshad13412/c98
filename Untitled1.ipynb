{
  "nbformat": 4,
  "nbformat_minor": 0,
  "metadata": {
    "colab": {
      "provenance": [],
      "authorship_tag": "ABX9TyP6Uqz31AivAXiMQH2qOgp4",
      "include_colab_link": true
    },
    "kernelspec": {
      "name": "python3",
      "display_name": "Python 3"
    },
    "language_info": {
      "name": "python"
    }
  },
  "cells": [
    {
      "cell_type": "markdown",
      "metadata": {
        "id": "view-in-github",
        "colab_type": "text"
      },
      "source": [
        "<a href=\"https://colab.research.google.com/github/harshad13412/c98/blob/main/Untitled1.ipynb\" target=\"_parent\"><img src=\"https://colab.research.google.com/assets/colab-badge.svg\" alt=\"Open In Colab\"/></a>"
      ]
    },
    {
      "cell_type": "code",
      "execution_count": null,
      "metadata": {
        "id": "vk7Cl3HRwHEY"
      },
      "outputs": [],
      "source": [
        "# Function to find numbers divisible by a given number in a given range\n",
        "def find_divisible_numbers(number, lower_limit, upper_limit):\n",
        "    divisible_numbers = []\n",
        "    for i in range(lower_limit, upper_limit + 1):\n",
        "        if i % number == 0:\n",
        "            divisible_numbers.append(i)\n",
        "    return divisible_numbers\n",
        "\n",
        "# Get user input\n",
        "number = int(input(\"Enter a number: \"))\n",
        "lower_limit = int(input(\"Enter the lower limit: \"))\n",
        "upper_limit = int(input(\"Enter the upper limit: \"))\n",
        "\n",
        "# Find divisib\n",
        "def find_divisible_numbers():\n",
        "    # Iterate through the range and find divisible numbers\n",
        "    for i in range(lower_limit, upper_limit + 1):\n",
        "        if i % number == 0:\n",
        "            print(i)\n",
        "\n",
        "# Call the function from the first code\n",
        "find_divisible_numbers()\n",
        "\n",
        "# Find divisible numbers using the second code\n",
        "result = find_divisible_numbers(number, lower_limit, upper_limit)\n",
        "\n",
        "# Print the result\n",
        "print(\"Numbers divisible by\", number, \"between\", lower_limit, \"and\", upper_limit, \"are:\")\n",
        "print(result)\n"
      ]
    },
    {
      "cell_type": "code",
      "source": [],
      "metadata": {
        "id": "K0yTmoIBeLL9"
      },
      "execution_count": null,
      "outputs": []
    }
  ]
}